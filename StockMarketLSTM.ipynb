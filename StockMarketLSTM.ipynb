{
  "nbformat": 4,
  "nbformat_minor": 0,
  "metadata": {
    "colab": {
      "provenance": []
    },
    "kernelspec": {
      "name": "python3",
      "display_name": "Python 3"
    },
    "widgets": {
      "application/vnd.jupyter.widget-state+json": {
        "449524cc05b74af6838458d0f2036e40": {
          "model_module": "@jupyter-widgets/controls",
          "model_name": "HBoxModel",
          "model_module_version": "1.5.0",
          "state": {
            "_dom_classes": [],
            "_model_module": "@jupyter-widgets/controls",
            "_model_module_version": "1.5.0",
            "_model_name": "HBoxModel",
            "_view_count": null,
            "_view_module": "@jupyter-widgets/controls",
            "_view_module_version": "1.5.0",
            "_view_name": "HBoxView",
            "box_style": "",
            "children": [
              "IPY_MODEL_38c290eba1a94ba984b4ce04eeccd273",
              "IPY_MODEL_d706d434f3b0449380659bd4b32f87c4",
              "IPY_MODEL_a63e250903a34a2f8f6d8cc78f97d546"
            ],
            "layout": "IPY_MODEL_01e9ae22646343a28aa7f1b9d60e89bb"
          }
        },
        "38c290eba1a94ba984b4ce04eeccd273": {
          "model_module": "@jupyter-widgets/controls",
          "model_name": "HTMLModel",
          "model_module_version": "1.5.0",
          "state": {
            "_dom_classes": [],
            "_model_module": "@jupyter-widgets/controls",
            "_model_module_version": "1.5.0",
            "_model_name": "HTMLModel",
            "_view_count": null,
            "_view_module": "@jupyter-widgets/controls",
            "_view_module_version": "1.5.0",
            "_view_name": "HTMLView",
            "description": "",
            "description_tooltip": null,
            "layout": "IPY_MODEL_696e0931ddaa4623a69aa01935b9a66b",
            "placeholder": "​",
            "style": "IPY_MODEL_b7e8215984c348b68a60600dc7072125",
            "value": "100%"
          }
        },
        "d706d434f3b0449380659bd4b32f87c4": {
          "model_module": "@jupyter-widgets/controls",
          "model_name": "FloatProgressModel",
          "model_module_version": "1.5.0",
          "state": {
            "_dom_classes": [],
            "_model_module": "@jupyter-widgets/controls",
            "_model_module_version": "1.5.0",
            "_model_name": "FloatProgressModel",
            "_view_count": null,
            "_view_module": "@jupyter-widgets/controls",
            "_view_module_version": "1.5.0",
            "_view_name": "ProgressView",
            "bar_style": "success",
            "description": "",
            "description_tooltip": null,
            "layout": "IPY_MODEL_83b77235775a42dbb6c379b07b625f62",
            "max": 1227,
            "min": 0,
            "orientation": "horizontal",
            "style": "IPY_MODEL_4aa82ca45c264eaf9b78b7ce886a0cc6",
            "value": 1227
          }
        },
        "a63e250903a34a2f8f6d8cc78f97d546": {
          "model_module": "@jupyter-widgets/controls",
          "model_name": "HTMLModel",
          "model_module_version": "1.5.0",
          "state": {
            "_dom_classes": [],
            "_model_module": "@jupyter-widgets/controls",
            "_model_module_version": "1.5.0",
            "_model_name": "HTMLModel",
            "_view_count": null,
            "_view_module": "@jupyter-widgets/controls",
            "_view_module_version": "1.5.0",
            "_view_name": "HTMLView",
            "description": "",
            "description_tooltip": null,
            "layout": "IPY_MODEL_85ca4134eb7e411ba979afc34e384af9",
            "placeholder": "​",
            "style": "IPY_MODEL_41815f97efde4328bac878be24d8e456",
            "value": " 1227/1227 [00:00&lt;00:00, 4167.96it/s]"
          }
        },
        "01e9ae22646343a28aa7f1b9d60e89bb": {
          "model_module": "@jupyter-widgets/base",
          "model_name": "LayoutModel",
          "model_module_version": "1.2.0",
          "state": {
            "_model_module": "@jupyter-widgets/base",
            "_model_module_version": "1.2.0",
            "_model_name": "LayoutModel",
            "_view_count": null,
            "_view_module": "@jupyter-widgets/base",
            "_view_module_version": "1.2.0",
            "_view_name": "LayoutView",
            "align_content": null,
            "align_items": null,
            "align_self": null,
            "border": null,
            "bottom": null,
            "display": null,
            "flex": null,
            "flex_flow": null,
            "grid_area": null,
            "grid_auto_columns": null,
            "grid_auto_flow": null,
            "grid_auto_rows": null,
            "grid_column": null,
            "grid_gap": null,
            "grid_row": null,
            "grid_template_areas": null,
            "grid_template_columns": null,
            "grid_template_rows": null,
            "height": null,
            "justify_content": null,
            "justify_items": null,
            "left": null,
            "margin": null,
            "max_height": null,
            "max_width": null,
            "min_height": null,
            "min_width": null,
            "object_fit": null,
            "object_position": null,
            "order": null,
            "overflow": null,
            "overflow_x": null,
            "overflow_y": null,
            "padding": null,
            "right": null,
            "top": null,
            "visibility": null,
            "width": null
          }
        },
        "696e0931ddaa4623a69aa01935b9a66b": {
          "model_module": "@jupyter-widgets/base",
          "model_name": "LayoutModel",
          "model_module_version": "1.2.0",
          "state": {
            "_model_module": "@jupyter-widgets/base",
            "_model_module_version": "1.2.0",
            "_model_name": "LayoutModel",
            "_view_count": null,
            "_view_module": "@jupyter-widgets/base",
            "_view_module_version": "1.2.0",
            "_view_name": "LayoutView",
            "align_content": null,
            "align_items": null,
            "align_self": null,
            "border": null,
            "bottom": null,
            "display": null,
            "flex": null,
            "flex_flow": null,
            "grid_area": null,
            "grid_auto_columns": null,
            "grid_auto_flow": null,
            "grid_auto_rows": null,
            "grid_column": null,
            "grid_gap": null,
            "grid_row": null,
            "grid_template_areas": null,
            "grid_template_columns": null,
            "grid_template_rows": null,
            "height": null,
            "justify_content": null,
            "justify_items": null,
            "left": null,
            "margin": null,
            "max_height": null,
            "max_width": null,
            "min_height": null,
            "min_width": null,
            "object_fit": null,
            "object_position": null,
            "order": null,
            "overflow": null,
            "overflow_x": null,
            "overflow_y": null,
            "padding": null,
            "right": null,
            "top": null,
            "visibility": null,
            "width": null
          }
        },
        "b7e8215984c348b68a60600dc7072125": {
          "model_module": "@jupyter-widgets/controls",
          "model_name": "DescriptionStyleModel",
          "model_module_version": "1.5.0",
          "state": {
            "_model_module": "@jupyter-widgets/controls",
            "_model_module_version": "1.5.0",
            "_model_name": "DescriptionStyleModel",
            "_view_count": null,
            "_view_module": "@jupyter-widgets/base",
            "_view_module_version": "1.2.0",
            "_view_name": "StyleView",
            "description_width": ""
          }
        },
        "83b77235775a42dbb6c379b07b625f62": {
          "model_module": "@jupyter-widgets/base",
          "model_name": "LayoutModel",
          "model_module_version": "1.2.0",
          "state": {
            "_model_module": "@jupyter-widgets/base",
            "_model_module_version": "1.2.0",
            "_model_name": "LayoutModel",
            "_view_count": null,
            "_view_module": "@jupyter-widgets/base",
            "_view_module_version": "1.2.0",
            "_view_name": "LayoutView",
            "align_content": null,
            "align_items": null,
            "align_self": null,
            "border": null,
            "bottom": null,
            "display": null,
            "flex": null,
            "flex_flow": null,
            "grid_area": null,
            "grid_auto_columns": null,
            "grid_auto_flow": null,
            "grid_auto_rows": null,
            "grid_column": null,
            "grid_gap": null,
            "grid_row": null,
            "grid_template_areas": null,
            "grid_template_columns": null,
            "grid_template_rows": null,
            "height": null,
            "justify_content": null,
            "justify_items": null,
            "left": null,
            "margin": null,
            "max_height": null,
            "max_width": null,
            "min_height": null,
            "min_width": null,
            "object_fit": null,
            "object_position": null,
            "order": null,
            "overflow": null,
            "overflow_x": null,
            "overflow_y": null,
            "padding": null,
            "right": null,
            "top": null,
            "visibility": null,
            "width": null
          }
        },
        "4aa82ca45c264eaf9b78b7ce886a0cc6": {
          "model_module": "@jupyter-widgets/controls",
          "model_name": "ProgressStyleModel",
          "model_module_version": "1.5.0",
          "state": {
            "_model_module": "@jupyter-widgets/controls",
            "_model_module_version": "1.5.0",
            "_model_name": "ProgressStyleModel",
            "_view_count": null,
            "_view_module": "@jupyter-widgets/base",
            "_view_module_version": "1.2.0",
            "_view_name": "StyleView",
            "bar_color": null,
            "description_width": ""
          }
        },
        "85ca4134eb7e411ba979afc34e384af9": {
          "model_module": "@jupyter-widgets/base",
          "model_name": "LayoutModel",
          "model_module_version": "1.2.0",
          "state": {
            "_model_module": "@jupyter-widgets/base",
            "_model_module_version": "1.2.0",
            "_model_name": "LayoutModel",
            "_view_count": null,
            "_view_module": "@jupyter-widgets/base",
            "_view_module_version": "1.2.0",
            "_view_name": "LayoutView",
            "align_content": null,
            "align_items": null,
            "align_self": null,
            "border": null,
            "bottom": null,
            "display": null,
            "flex": null,
            "flex_flow": null,
            "grid_area": null,
            "grid_auto_columns": null,
            "grid_auto_flow": null,
            "grid_auto_rows": null,
            "grid_column": null,
            "grid_gap": null,
            "grid_row": null,
            "grid_template_areas": null,
            "grid_template_columns": null,
            "grid_template_rows": null,
            "height": null,
            "justify_content": null,
            "justify_items": null,
            "left": null,
            "margin": null,
            "max_height": null,
            "max_width": null,
            "min_height": null,
            "min_width": null,
            "object_fit": null,
            "object_position": null,
            "order": null,
            "overflow": null,
            "overflow_x": null,
            "overflow_y": null,
            "padding": null,
            "right": null,
            "top": null,
            "visibility": null,
            "width": null
          }
        },
        "41815f97efde4328bac878be24d8e456": {
          "model_module": "@jupyter-widgets/controls",
          "model_name": "DescriptionStyleModel",
          "model_module_version": "1.5.0",
          "state": {
            "_model_module": "@jupyter-widgets/controls",
            "_model_module_version": "1.5.0",
            "_model_name": "DescriptionStyleModel",
            "_view_count": null,
            "_view_module": "@jupyter-widgets/base",
            "_view_module_version": "1.2.0",
            "_view_name": "StyleView",
            "description_width": ""
          }
        }
      }
    }
  },
  "cells": [
    {
      "cell_type": "code",
      "metadata": {
        "id": "9-XIpD76Ca2J"
      },
      "source": [
        "# Installing necessary packages\n",
        "# !pip install yfinance"
      ],
      "execution_count": 1,
      "outputs": []
    },
    {
      "cell_type": "markdown",
      "source": [
        "# Importing Required Packages"
      ],
      "metadata": {
        "id": "OVU6PnE4_LX4"
      }
    },
    {
      "cell_type": "code",
      "metadata": {
        "id": "Sg0nlOuvCj64"
      },
      "source": [
        "# Importing required libraries\n",
        "\n",
        "# Financia library\n",
        "import yfinance as yf\n",
        "\n",
        "# Data manipulation labraries\n",
        "import numpy as np\n",
        "import pandas as pd\n",
        "\n",
        "# Visualization libraries\n",
        "from IPython.display import display\n",
        "import matplotlib.pyplot as plt\n",
        "import seaborn as sns\n",
        "%matplotlib inline\n",
        "\n",
        "# Preprocessing libraries\n",
        "from sklearn.preprocessing import MinMaxScaler \n",
        "import pickle \n",
        "from tqdm.notebook import tnrange\n",
        "\n",
        "# Deep learning library\n",
        "import tensorflow as tf\n",
        "\n",
        "# Restricting the float value of a dataframe to 3 decimal points\n",
        "pd.set_option('display.float_format', lambda x: '%.3f' % x)\n",
        "# Removing the limit for the number of displayed columns in a dataframe\n",
        "pd.set_option(\"display.max_columns\", None)\n",
        "# Setting the theme and fontsize of figures\n",
        "sns.set_theme(style = 'darkgrid', font_scale = 1.2)"
      ],
      "execution_count": 2,
      "outputs": []
    },
    {
      "cell_type": "markdown",
      "source": [
        "## Loading and Viewing the Dataset "
      ],
      "metadata": {
        "id": "tAfdZ6nZ1wMc"
      }
    },
    {
      "cell_type": "code",
      "metadata": {
        "id": "lB8BRr-8CmN2",
        "colab": {
          "base_uri": "https://localhost:8080/"
        },
        "outputId": "fdba980d-b74c-4afe-bf5e-65a7ce3297f7"
      },
      "source": [
        "# Downloading google's stock data\n",
        "data = yf.download('GOOGL', start = '2018-01-01', end = '2022-12-31', interval = '1d')"
      ],
      "execution_count": 3,
      "outputs": [
        {
          "output_type": "stream",
          "name": "stdout",
          "text": [
            "\r[*********************100%***********************]  1 of 1 completed\n"
          ]
        }
      ]
    },
    {
      "cell_type": "code",
      "metadata": {
        "id": "EB0lAYKNhkBd",
        "colab": {
          "base_uri": "https://localhost:8080/",
          "height": 545
        },
        "outputId": "df84e047-7c47-492b-d29c-1d63e2034d2f"
      },
      "source": [
        "# Checking the shape of data set\n",
        "print('The stock data has {} features and {} observations.'.format(\n",
        "                                                              data.shape[1], data.shape[0]))\n",
        "# Visiting the top 5 rows\n",
        "print('\\nFirst five rows:')\n",
        "display(data.head())\n",
        "\n",
        "# Visiting the bottom 5 rows\n",
        "print('\\nLast five rows:')\n",
        "display(data.tail())"
      ],
      "execution_count": 4,
      "outputs": [
        {
          "output_type": "stream",
          "name": "stdout",
          "text": [
            "The stock data has 6 features and 1259 observations.\n",
            "\n",
            "First five rows:\n"
          ]
        },
        {
          "output_type": "display_data",
          "data": {
            "text/plain": [
              "             Open   High    Low  Close  Adj Close    Volume\n",
              "Date                                                       \n",
              "2018-01-02 52.651 53.799 52.651 53.660     53.660  31766000\n",
              "2018-01-03 53.696 54.805 53.672 54.576     54.576  31318000\n",
              "2018-01-04 54.854 55.204 54.713 54.788     54.788  26052000\n",
              "2018-01-05 55.173 55.679 55.090 55.514     55.514  30250000\n",
              "2018-01-08 55.550 55.958 55.500 55.710     55.710  24644000"
            ],
            "text/html": [
              "\n",
              "  <div id=\"df-2c1e5bf8-b383-4184-873b-b7106c1fc3c9\">\n",
              "    <div class=\"colab-df-container\">\n",
              "      <div>\n",
              "<style scoped>\n",
              "    .dataframe tbody tr th:only-of-type {\n",
              "        vertical-align: middle;\n",
              "    }\n",
              "\n",
              "    .dataframe tbody tr th {\n",
              "        vertical-align: top;\n",
              "    }\n",
              "\n",
              "    .dataframe thead th {\n",
              "        text-align: right;\n",
              "    }\n",
              "</style>\n",
              "<table border=\"1\" class=\"dataframe\">\n",
              "  <thead>\n",
              "    <tr style=\"text-align: right;\">\n",
              "      <th></th>\n",
              "      <th>Open</th>\n",
              "      <th>High</th>\n",
              "      <th>Low</th>\n",
              "      <th>Close</th>\n",
              "      <th>Adj Close</th>\n",
              "      <th>Volume</th>\n",
              "    </tr>\n",
              "    <tr>\n",
              "      <th>Date</th>\n",
              "      <th></th>\n",
              "      <th></th>\n",
              "      <th></th>\n",
              "      <th></th>\n",
              "      <th></th>\n",
              "      <th></th>\n",
              "    </tr>\n",
              "  </thead>\n",
              "  <tbody>\n",
              "    <tr>\n",
              "      <th>2018-01-02</th>\n",
              "      <td>52.651</td>\n",
              "      <td>53.799</td>\n",
              "      <td>52.651</td>\n",
              "      <td>53.660</td>\n",
              "      <td>53.660</td>\n",
              "      <td>31766000</td>\n",
              "    </tr>\n",
              "    <tr>\n",
              "      <th>2018-01-03</th>\n",
              "      <td>53.696</td>\n",
              "      <td>54.805</td>\n",
              "      <td>53.672</td>\n",
              "      <td>54.576</td>\n",
              "      <td>54.576</td>\n",
              "      <td>31318000</td>\n",
              "    </tr>\n",
              "    <tr>\n",
              "      <th>2018-01-04</th>\n",
              "      <td>54.854</td>\n",
              "      <td>55.204</td>\n",
              "      <td>54.713</td>\n",
              "      <td>54.788</td>\n",
              "      <td>54.788</td>\n",
              "      <td>26052000</td>\n",
              "    </tr>\n",
              "    <tr>\n",
              "      <th>2018-01-05</th>\n",
              "      <td>55.173</td>\n",
              "      <td>55.679</td>\n",
              "      <td>55.090</td>\n",
              "      <td>55.514</td>\n",
              "      <td>55.514</td>\n",
              "      <td>30250000</td>\n",
              "    </tr>\n",
              "    <tr>\n",
              "      <th>2018-01-08</th>\n",
              "      <td>55.550</td>\n",
              "      <td>55.958</td>\n",
              "      <td>55.500</td>\n",
              "      <td>55.710</td>\n",
              "      <td>55.710</td>\n",
              "      <td>24644000</td>\n",
              "    </tr>\n",
              "  </tbody>\n",
              "</table>\n",
              "</div>\n",
              "      <button class=\"colab-df-convert\" onclick=\"convertToInteractive('df-2c1e5bf8-b383-4184-873b-b7106c1fc3c9')\"\n",
              "              title=\"Convert this dataframe to an interactive table.\"\n",
              "              style=\"display:none;\">\n",
              "        \n",
              "  <svg xmlns=\"http://www.w3.org/2000/svg\" height=\"24px\"viewBox=\"0 0 24 24\"\n",
              "       width=\"24px\">\n",
              "    <path d=\"M0 0h24v24H0V0z\" fill=\"none\"/>\n",
              "    <path d=\"M18.56 5.44l.94 2.06.94-2.06 2.06-.94-2.06-.94-.94-2.06-.94 2.06-2.06.94zm-11 1L8.5 8.5l.94-2.06 2.06-.94-2.06-.94L8.5 2.5l-.94 2.06-2.06.94zm10 10l.94 2.06.94-2.06 2.06-.94-2.06-.94-.94-2.06-.94 2.06-2.06.94z\"/><path d=\"M17.41 7.96l-1.37-1.37c-.4-.4-.92-.59-1.43-.59-.52 0-1.04.2-1.43.59L10.3 9.45l-7.72 7.72c-.78.78-.78 2.05 0 2.83L4 21.41c.39.39.9.59 1.41.59.51 0 1.02-.2 1.41-.59l7.78-7.78 2.81-2.81c.8-.78.8-2.07 0-2.86zM5.41 20L4 18.59l7.72-7.72 1.47 1.35L5.41 20z\"/>\n",
              "  </svg>\n",
              "      </button>\n",
              "      \n",
              "  <style>\n",
              "    .colab-df-container {\n",
              "      display:flex;\n",
              "      flex-wrap:wrap;\n",
              "      gap: 12px;\n",
              "    }\n",
              "\n",
              "    .colab-df-convert {\n",
              "      background-color: #E8F0FE;\n",
              "      border: none;\n",
              "      border-radius: 50%;\n",
              "      cursor: pointer;\n",
              "      display: none;\n",
              "      fill: #1967D2;\n",
              "      height: 32px;\n",
              "      padding: 0 0 0 0;\n",
              "      width: 32px;\n",
              "    }\n",
              "\n",
              "    .colab-df-convert:hover {\n",
              "      background-color: #E2EBFA;\n",
              "      box-shadow: 0px 1px 2px rgba(60, 64, 67, 0.3), 0px 1px 3px 1px rgba(60, 64, 67, 0.15);\n",
              "      fill: #174EA6;\n",
              "    }\n",
              "\n",
              "    [theme=dark] .colab-df-convert {\n",
              "      background-color: #3B4455;\n",
              "      fill: #D2E3FC;\n",
              "    }\n",
              "\n",
              "    [theme=dark] .colab-df-convert:hover {\n",
              "      background-color: #434B5C;\n",
              "      box-shadow: 0px 1px 3px 1px rgba(0, 0, 0, 0.15);\n",
              "      filter: drop-shadow(0px 1px 2px rgba(0, 0, 0, 0.3));\n",
              "      fill: #FFFFFF;\n",
              "    }\n",
              "  </style>\n",
              "\n",
              "      <script>\n",
              "        const buttonEl =\n",
              "          document.querySelector('#df-2c1e5bf8-b383-4184-873b-b7106c1fc3c9 button.colab-df-convert');\n",
              "        buttonEl.style.display =\n",
              "          google.colab.kernel.accessAllowed ? 'block' : 'none';\n",
              "\n",
              "        async function convertToInteractive(key) {\n",
              "          const element = document.querySelector('#df-2c1e5bf8-b383-4184-873b-b7106c1fc3c9');\n",
              "          const dataTable =\n",
              "            await google.colab.kernel.invokeFunction('convertToInteractive',\n",
              "                                                     [key], {});\n",
              "          if (!dataTable) return;\n",
              "\n",
              "          const docLinkHtml = 'Like what you see? Visit the ' +\n",
              "            '<a target=\"_blank\" href=https://colab.research.google.com/notebooks/data_table.ipynb>data table notebook</a>'\n",
              "            + ' to learn more about interactive tables.';\n",
              "          element.innerHTML = '';\n",
              "          dataTable['output_type'] = 'display_data';\n",
              "          await google.colab.output.renderOutput(dataTable, element);\n",
              "          const docLink = document.createElement('div');\n",
              "          docLink.innerHTML = docLinkHtml;\n",
              "          element.appendChild(docLink);\n",
              "        }\n",
              "      </script>\n",
              "    </div>\n",
              "  </div>\n",
              "  "
            ]
          },
          "metadata": {}
        },
        {
          "output_type": "stream",
          "name": "stdout",
          "text": [
            "\n",
            "Last five rows:\n"
          ]
        },
        {
          "output_type": "display_data",
          "data": {
            "text/plain": [
              "             Open   High    Low  Close  Adj Close    Volume\n",
              "Date                                                       \n",
              "2022-12-23 87.110 89.550 87.070 89.230     89.230  23003000\n",
              "2022-12-27 88.800 88.940 87.010 87.390     87.390  20097300\n",
              "2022-12-28 86.980 88.040 85.940 86.020     86.020  19523200\n",
              "2022-12-29 86.620 88.850 86.610 88.450     88.450  23333500\n",
              "2022-12-30 86.980 88.300 86.570 88.230     88.230  23964900"
            ],
            "text/html": [
              "\n",
              "  <div id=\"df-52d939c5-05ee-4534-8b37-0f781698f433\">\n",
              "    <div class=\"colab-df-container\">\n",
              "      <div>\n",
              "<style scoped>\n",
              "    .dataframe tbody tr th:only-of-type {\n",
              "        vertical-align: middle;\n",
              "    }\n",
              "\n",
              "    .dataframe tbody tr th {\n",
              "        vertical-align: top;\n",
              "    }\n",
              "\n",
              "    .dataframe thead th {\n",
              "        text-align: right;\n",
              "    }\n",
              "</style>\n",
              "<table border=\"1\" class=\"dataframe\">\n",
              "  <thead>\n",
              "    <tr style=\"text-align: right;\">\n",
              "      <th></th>\n",
              "      <th>Open</th>\n",
              "      <th>High</th>\n",
              "      <th>Low</th>\n",
              "      <th>Close</th>\n",
              "      <th>Adj Close</th>\n",
              "      <th>Volume</th>\n",
              "    </tr>\n",
              "    <tr>\n",
              "      <th>Date</th>\n",
              "      <th></th>\n",
              "      <th></th>\n",
              "      <th></th>\n",
              "      <th></th>\n",
              "      <th></th>\n",
              "      <th></th>\n",
              "    </tr>\n",
              "  </thead>\n",
              "  <tbody>\n",
              "    <tr>\n",
              "      <th>2022-12-23</th>\n",
              "      <td>87.110</td>\n",
              "      <td>89.550</td>\n",
              "      <td>87.070</td>\n",
              "      <td>89.230</td>\n",
              "      <td>89.230</td>\n",
              "      <td>23003000</td>\n",
              "    </tr>\n",
              "    <tr>\n",
              "      <th>2022-12-27</th>\n",
              "      <td>88.800</td>\n",
              "      <td>88.940</td>\n",
              "      <td>87.010</td>\n",
              "      <td>87.390</td>\n",
              "      <td>87.390</td>\n",
              "      <td>20097300</td>\n",
              "    </tr>\n",
              "    <tr>\n",
              "      <th>2022-12-28</th>\n",
              "      <td>86.980</td>\n",
              "      <td>88.040</td>\n",
              "      <td>85.940</td>\n",
              "      <td>86.020</td>\n",
              "      <td>86.020</td>\n",
              "      <td>19523200</td>\n",
              "    </tr>\n",
              "    <tr>\n",
              "      <th>2022-12-29</th>\n",
              "      <td>86.620</td>\n",
              "      <td>88.850</td>\n",
              "      <td>86.610</td>\n",
              "      <td>88.450</td>\n",
              "      <td>88.450</td>\n",
              "      <td>23333500</td>\n",
              "    </tr>\n",
              "    <tr>\n",
              "      <th>2022-12-30</th>\n",
              "      <td>86.980</td>\n",
              "      <td>88.300</td>\n",
              "      <td>86.570</td>\n",
              "      <td>88.230</td>\n",
              "      <td>88.230</td>\n",
              "      <td>23964900</td>\n",
              "    </tr>\n",
              "  </tbody>\n",
              "</table>\n",
              "</div>\n",
              "      <button class=\"colab-df-convert\" onclick=\"convertToInteractive('df-52d939c5-05ee-4534-8b37-0f781698f433')\"\n",
              "              title=\"Convert this dataframe to an interactive table.\"\n",
              "              style=\"display:none;\">\n",
              "        \n",
              "  <svg xmlns=\"http://www.w3.org/2000/svg\" height=\"24px\"viewBox=\"0 0 24 24\"\n",
              "       width=\"24px\">\n",
              "    <path d=\"M0 0h24v24H0V0z\" fill=\"none\"/>\n",
              "    <path d=\"M18.56 5.44l.94 2.06.94-2.06 2.06-.94-2.06-.94-.94-2.06-.94 2.06-2.06.94zm-11 1L8.5 8.5l.94-2.06 2.06-.94-2.06-.94L8.5 2.5l-.94 2.06-2.06.94zm10 10l.94 2.06.94-2.06 2.06-.94-2.06-.94-.94-2.06-.94 2.06-2.06.94z\"/><path d=\"M17.41 7.96l-1.37-1.37c-.4-.4-.92-.59-1.43-.59-.52 0-1.04.2-1.43.59L10.3 9.45l-7.72 7.72c-.78.78-.78 2.05 0 2.83L4 21.41c.39.39.9.59 1.41.59.51 0 1.02-.2 1.41-.59l7.78-7.78 2.81-2.81c.8-.78.8-2.07 0-2.86zM5.41 20L4 18.59l7.72-7.72 1.47 1.35L5.41 20z\"/>\n",
              "  </svg>\n",
              "      </button>\n",
              "      \n",
              "  <style>\n",
              "    .colab-df-container {\n",
              "      display:flex;\n",
              "      flex-wrap:wrap;\n",
              "      gap: 12px;\n",
              "    }\n",
              "\n",
              "    .colab-df-convert {\n",
              "      background-color: #E8F0FE;\n",
              "      border: none;\n",
              "      border-radius: 50%;\n",
              "      cursor: pointer;\n",
              "      display: none;\n",
              "      fill: #1967D2;\n",
              "      height: 32px;\n",
              "      padding: 0 0 0 0;\n",
              "      width: 32px;\n",
              "    }\n",
              "\n",
              "    .colab-df-convert:hover {\n",
              "      background-color: #E2EBFA;\n",
              "      box-shadow: 0px 1px 2px rgba(60, 64, 67, 0.3), 0px 1px 3px 1px rgba(60, 64, 67, 0.15);\n",
              "      fill: #174EA6;\n",
              "    }\n",
              "\n",
              "    [theme=dark] .colab-df-convert {\n",
              "      background-color: #3B4455;\n",
              "      fill: #D2E3FC;\n",
              "    }\n",
              "\n",
              "    [theme=dark] .colab-df-convert:hover {\n",
              "      background-color: #434B5C;\n",
              "      box-shadow: 0px 1px 3px 1px rgba(0, 0, 0, 0.15);\n",
              "      filter: drop-shadow(0px 1px 2px rgba(0, 0, 0, 0.3));\n",
              "      fill: #FFFFFF;\n",
              "    }\n",
              "  </style>\n",
              "\n",
              "      <script>\n",
              "        const buttonEl =\n",
              "          document.querySelector('#df-52d939c5-05ee-4534-8b37-0f781698f433 button.colab-df-convert');\n",
              "        buttonEl.style.display =\n",
              "          google.colab.kernel.accessAllowed ? 'block' : 'none';\n",
              "\n",
              "        async function convertToInteractive(key) {\n",
              "          const element = document.querySelector('#df-52d939c5-05ee-4534-8b37-0f781698f433');\n",
              "          const dataTable =\n",
              "            await google.colab.kernel.invokeFunction('convertToInteractive',\n",
              "                                                     [key], {});\n",
              "          if (!dataTable) return;\n",
              "\n",
              "          const docLinkHtml = 'Like what you see? Visit the ' +\n",
              "            '<a target=\"_blank\" href=https://colab.research.google.com/notebooks/data_table.ipynb>data table notebook</a>'\n",
              "            + ' to learn more about interactive tables.';\n",
              "          element.innerHTML = '';\n",
              "          dataTable['output_type'] = 'display_data';\n",
              "          await google.colab.output.renderOutput(dataTable, element);\n",
              "          const docLink = document.createElement('div');\n",
              "          docLink.innerHTML = docLinkHtml;\n",
              "          element.appendChild(docLink);\n",
              "        }\n",
              "      </script>\n",
              "    </div>\n",
              "  </div>\n",
              "  "
            ]
          },
          "metadata": {}
        }
      ]
    },
    {
      "cell_type": "markdown",
      "metadata": {
        "id": "ULgWVmd73rqJ"
      },
      "source": [
        "## Understanding the Trends of the Data\n",
        "\n",
        "\n"
      ]
    },
    {
      "cell_type": "code",
      "metadata": {
        "id": "Jl1C9ZS32DvC"
      },
      "source": [
        "# Sorting the data points based on indexes just for confirmation \n",
        "data.sort_index(inplace = True)"
      ],
      "execution_count": 5,
      "outputs": []
    },
    {
      "cell_type": "code",
      "metadata": {
        "id": "Lsg27AhR2y4p"
      },
      "source": [
        "# Removing any duplicate index \n",
        "data = data.loc[~data.index.duplicated(keep = 'first')]"
      ],
      "execution_count": 6,
      "outputs": []
    },
    {
      "cell_type": "code",
      "metadata": {
        "id": "F3mCAb7x2ii0",
        "colab": {
          "base_uri": "https://localhost:8080/"
        },
        "outputId": "ebac7988-7005-4ec6-a681-e481b5338124"
      },
      "source": [
        "# Checking for missing values \n",
        "data.isnull().sum()"
      ],
      "execution_count": 7,
      "outputs": [
        {
          "output_type": "execute_result",
          "data": {
            "text/plain": [
              "Open         0\n",
              "High         0\n",
              "Low          0\n",
              "Close        0\n",
              "Adj Close    0\n",
              "Volume       0\n",
              "dtype: int64"
            ]
          },
          "metadata": {},
          "execution_count": 7
        }
      ]
    },
    {
      "cell_type": "code",
      "metadata": {
        "id": "Luf4vpM-2w9I",
        "colab": {
          "base_uri": "https://localhost:8080/",
          "height": 238
        },
        "outputId": "f4ce454b-9fa7-46f2-884d-1063f7dceb17"
      },
      "source": [
        "# Statistical summary of the dataset\n",
        "data.describe().T"
      ],
      "execution_count": 8,
      "outputs": [
        {
          "output_type": "execute_result",
          "data": {
            "text/plain": [
              "             count         mean          std         min          25%  \\\n",
              "Open      1259.000       85.700       30.779      49.216       58.783   \n",
              "High      1259.000       86.652       31.073      50.606       59.270   \n",
              "Low       1259.000       84.740       30.419      48.883       58.183   \n",
              "Close     1259.000       85.711       30.738      49.234       58.739   \n",
              "Adj Close 1259.000       85.711       30.738      49.234       58.739   \n",
              "Volume    1259.000 35282554.964 16033693.183 9312000.000 25062150.000   \n",
              "\n",
              "                   50%          75%           max  \n",
              "Open            73.775      112.595       151.250  \n",
              "High            74.426      114.007       151.546  \n",
              "Low             73.005      111.425       148.899  \n",
              "Close           73.955      112.674       149.839  \n",
              "Adj Close       73.955      112.674       149.839  \n",
              "Volume    31436000.000 40255000.000 133178000.000  "
            ],
            "text/html": [
              "\n",
              "  <div id=\"df-f466151d-3189-4152-aed3-e7e7634b99cb\">\n",
              "    <div class=\"colab-df-container\">\n",
              "      <div>\n",
              "<style scoped>\n",
              "    .dataframe tbody tr th:only-of-type {\n",
              "        vertical-align: middle;\n",
              "    }\n",
              "\n",
              "    .dataframe tbody tr th {\n",
              "        vertical-align: top;\n",
              "    }\n",
              "\n",
              "    .dataframe thead th {\n",
              "        text-align: right;\n",
              "    }\n",
              "</style>\n",
              "<table border=\"1\" class=\"dataframe\">\n",
              "  <thead>\n",
              "    <tr style=\"text-align: right;\">\n",
              "      <th></th>\n",
              "      <th>count</th>\n",
              "      <th>mean</th>\n",
              "      <th>std</th>\n",
              "      <th>min</th>\n",
              "      <th>25%</th>\n",
              "      <th>50%</th>\n",
              "      <th>75%</th>\n",
              "      <th>max</th>\n",
              "    </tr>\n",
              "  </thead>\n",
              "  <tbody>\n",
              "    <tr>\n",
              "      <th>Open</th>\n",
              "      <td>1259.000</td>\n",
              "      <td>85.700</td>\n",
              "      <td>30.779</td>\n",
              "      <td>49.216</td>\n",
              "      <td>58.783</td>\n",
              "      <td>73.775</td>\n",
              "      <td>112.595</td>\n",
              "      <td>151.250</td>\n",
              "    </tr>\n",
              "    <tr>\n",
              "      <th>High</th>\n",
              "      <td>1259.000</td>\n",
              "      <td>86.652</td>\n",
              "      <td>31.073</td>\n",
              "      <td>50.606</td>\n",
              "      <td>59.270</td>\n",
              "      <td>74.426</td>\n",
              "      <td>114.007</td>\n",
              "      <td>151.546</td>\n",
              "    </tr>\n",
              "    <tr>\n",
              "      <th>Low</th>\n",
              "      <td>1259.000</td>\n",
              "      <td>84.740</td>\n",
              "      <td>30.419</td>\n",
              "      <td>48.883</td>\n",
              "      <td>58.183</td>\n",
              "      <td>73.005</td>\n",
              "      <td>111.425</td>\n",
              "      <td>148.899</td>\n",
              "    </tr>\n",
              "    <tr>\n",
              "      <th>Close</th>\n",
              "      <td>1259.000</td>\n",
              "      <td>85.711</td>\n",
              "      <td>30.738</td>\n",
              "      <td>49.234</td>\n",
              "      <td>58.739</td>\n",
              "      <td>73.955</td>\n",
              "      <td>112.674</td>\n",
              "      <td>149.839</td>\n",
              "    </tr>\n",
              "    <tr>\n",
              "      <th>Adj Close</th>\n",
              "      <td>1259.000</td>\n",
              "      <td>85.711</td>\n",
              "      <td>30.738</td>\n",
              "      <td>49.234</td>\n",
              "      <td>58.739</td>\n",
              "      <td>73.955</td>\n",
              "      <td>112.674</td>\n",
              "      <td>149.839</td>\n",
              "    </tr>\n",
              "    <tr>\n",
              "      <th>Volume</th>\n",
              "      <td>1259.000</td>\n",
              "      <td>35282554.964</td>\n",
              "      <td>16033693.183</td>\n",
              "      <td>9312000.000</td>\n",
              "      <td>25062150.000</td>\n",
              "      <td>31436000.000</td>\n",
              "      <td>40255000.000</td>\n",
              "      <td>133178000.000</td>\n",
              "    </tr>\n",
              "  </tbody>\n",
              "</table>\n",
              "</div>\n",
              "      <button class=\"colab-df-convert\" onclick=\"convertToInteractive('df-f466151d-3189-4152-aed3-e7e7634b99cb')\"\n",
              "              title=\"Convert this dataframe to an interactive table.\"\n",
              "              style=\"display:none;\">\n",
              "        \n",
              "  <svg xmlns=\"http://www.w3.org/2000/svg\" height=\"24px\"viewBox=\"0 0 24 24\"\n",
              "       width=\"24px\">\n",
              "    <path d=\"M0 0h24v24H0V0z\" fill=\"none\"/>\n",
              "    <path d=\"M18.56 5.44l.94 2.06.94-2.06 2.06-.94-2.06-.94-.94-2.06-.94 2.06-2.06.94zm-11 1L8.5 8.5l.94-2.06 2.06-.94-2.06-.94L8.5 2.5l-.94 2.06-2.06.94zm10 10l.94 2.06.94-2.06 2.06-.94-2.06-.94-.94-2.06-.94 2.06-2.06.94z\"/><path d=\"M17.41 7.96l-1.37-1.37c-.4-.4-.92-.59-1.43-.59-.52 0-1.04.2-1.43.59L10.3 9.45l-7.72 7.72c-.78.78-.78 2.05 0 2.83L4 21.41c.39.39.9.59 1.41.59.51 0 1.02-.2 1.41-.59l7.78-7.78 2.81-2.81c.8-.78.8-2.07 0-2.86zM5.41 20L4 18.59l7.72-7.72 1.47 1.35L5.41 20z\"/>\n",
              "  </svg>\n",
              "      </button>\n",
              "      \n",
              "  <style>\n",
              "    .colab-df-container {\n",
              "      display:flex;\n",
              "      flex-wrap:wrap;\n",
              "      gap: 12px;\n",
              "    }\n",
              "\n",
              "    .colab-df-convert {\n",
              "      background-color: #E8F0FE;\n",
              "      border: none;\n",
              "      border-radius: 50%;\n",
              "      cursor: pointer;\n",
              "      display: none;\n",
              "      fill: #1967D2;\n",
              "      height: 32px;\n",
              "      padding: 0 0 0 0;\n",
              "      width: 32px;\n",
              "    }\n",
              "\n",
              "    .colab-df-convert:hover {\n",
              "      background-color: #E2EBFA;\n",
              "      box-shadow: 0px 1px 2px rgba(60, 64, 67, 0.3), 0px 1px 3px 1px rgba(60, 64, 67, 0.15);\n",
              "      fill: #174EA6;\n",
              "    }\n",
              "\n",
              "    [theme=dark] .colab-df-convert {\n",
              "      background-color: #3B4455;\n",
              "      fill: #D2E3FC;\n",
              "    }\n",
              "\n",
              "    [theme=dark] .colab-df-convert:hover {\n",
              "      background-color: #434B5C;\n",
              "      box-shadow: 0px 1px 3px 1px rgba(0, 0, 0, 0.15);\n",
              "      filter: drop-shadow(0px 1px 2px rgba(0, 0, 0, 0.3));\n",
              "      fill: #FFFFFF;\n",
              "    }\n",
              "  </style>\n",
              "\n",
              "      <script>\n",
              "        const buttonEl =\n",
              "          document.querySelector('#df-f466151d-3189-4152-aed3-e7e7634b99cb button.colab-df-convert');\n",
              "        buttonEl.style.display =\n",
              "          google.colab.kernel.accessAllowed ? 'block' : 'none';\n",
              "\n",
              "        async function convertToInteractive(key) {\n",
              "          const element = document.querySelector('#df-f466151d-3189-4152-aed3-e7e7634b99cb');\n",
              "          const dataTable =\n",
              "            await google.colab.kernel.invokeFunction('convertToInteractive',\n",
              "                                                     [key], {});\n",
              "          if (!dataTable) return;\n",
              "\n",
              "          const docLinkHtml = 'Like what you see? Visit the ' +\n",
              "            '<a target=\"_blank\" href=https://colab.research.google.com/notebooks/data_table.ipynb>data table notebook</a>'\n",
              "            + ' to learn more about interactive tables.';\n",
              "          element.innerHTML = '';\n",
              "          dataTable['output_type'] = 'display_data';\n",
              "          await google.colab.output.renderOutput(dataTable, element);\n",
              "          const docLink = document.createElement('div');\n",
              "          docLink.innerHTML = docLinkHtml;\n",
              "          element.appendChild(docLink);\n",
              "        }\n",
              "      </script>\n",
              "    </div>\n",
              "  </div>\n",
              "  "
            ]
          },
          "metadata": {},
          "execution_count": 8
        }
      ]
    },
    {
      "cell_type": "code",
      "metadata": {
        "id": "lRRJ43U336Sz",
        "colab": {
          "base_uri": "https://localhost:8080/",
          "height": 415
        },
        "outputId": "4db62f0c-848d-4161-ff37-bae104ca2b90"
      },
      "source": [
        "# Checking the trends in high and low prices of a day in the same plot \n",
        "plt.figure(figsize = (15, 6));\n",
        "plt.plot(data.index, data.High, color = 'blue', linewidth = 1.7);\n",
        "plt.plot(data.index, data.Low, color = 'red', linewidth = 1.7);\n",
        "plt.title('Variation of High and Low Prices With Date');\n",
        "plt.legend(['High', 'Low']);\n",
        "plt.xlabel('Date');\n",
        "plt.ylabel('Price (USD)');"
      ],
      "execution_count": 9,
      "outputs": [
        {
          "output_type": "display_data",
          "data": {
            "text/plain": [
              "<Figure size 1080x432 with 1 Axes>"
            ],
            "image/png": "[encoded data removed]"
          },
          "metadata": {}
        }
      ]
    },
    {
      "cell_type": "code",
      "source": [
        "# Checking the trend in opening and closing values \n",
        "plt.figure(figsize = (15, 6));\n",
        "plt.plot(data.index, data.Open, color = 'blue', linewidth = 1.7);\n",
        "plt.plot(data.index, data.Close, color = 'red', linewidth = 1.7);\n",
        "plt.title('Variation of Opening and Closing Prices With Date');\n",
        "plt.legend(['Open', 'Close']);\n",
        "plt.xlabel('Date');\n",
        "plt.ylabel('Price (USD)');"
      ],
      "metadata": {
        "colab": {
          "base_uri": "https://localhost:8080/",
          "height": 415
        },
        "id": "hripo-WDON9Q",
        "outputId": "c9e57cac-2649-4b74-b3ca-b91b7254e9b6"
      },
      "execution_count": 10,
      "outputs": [
        {
          "output_type": "display_data",
          "data": {
            "text/plain": [
              "<Figure size 1080x432 with 1 Axes>"
            ],
            "image/png": "[encoded data removed]"
          },
          "metadata": {}
        }
      ]
    },
    {
      "cell_type": "code",
      "metadata": {
        "id": "hIG1kyPk4UCP",
        "colab": {
          "base_uri": "https://localhost:8080/",
          "height": 360
        },
        "outputId": "e6fbdfe8-38f8-478d-91ff-a35208c225d5"
      },
      "source": [
        "# Checking the trend in volume traded\n",
        "plt.figure(figsize = (16, 5));\n",
        "plt.plot(data.index, data.Volume, color = 'blue', linewidth = 1.7);\n",
        "plt.xlabel('Date');\n",
        "plt.ylabel('Volume Traded');\n",
        "plt.title('Variation of Volume Traded With Time');"
      ],
      "execution_count": 11,
      "outputs": [
        {
          "output_type": "display_data",
          "data": {
            "text/plain": [
              "<Figure size 1152x360 with 1 Axes>"
            ],
            "image/png": "[encoded data removed]"
          },
          "metadata": {}
        }
      ]
    },
    {
      "cell_type": "markdown",
      "metadata": {
        "id": "2KNZe8kA7Uiy"
      },
      "source": [
        "## Data Preparation for Modeling"
      ]
    },
    {
      "cell_type": "code",
      "metadata": {
        "id": "gJRGJTRf-Cfj",
        "colab": {
          "base_uri": "https://localhost:8080/",
          "height": 238
        },
        "outputId": "d8e547a2-f1ef-4ef5-b869-345416b9a2ae"
      },
      "source": [
        "# Filtering the required columns \n",
        "data = data[['Close' , 'Volume']]\n",
        "data.head()"
      ],
      "execution_count": 12,
      "outputs": [
        {
          "output_type": "execute_result",
          "data": {
            "text/plain": [
              "            Close    Volume\n",
              "Date                       \n",
              "2018-01-02 53.660  31766000\n",
              "2018-01-03 54.576  31318000\n",
              "2018-01-04 54.788  26052000\n",
              "2018-01-05 55.514  30250000\n",
              "2018-01-08 55.710  24644000"
            ],
            "text/html": [
              "\n",
              "  <div id=\"df-2412661e-97e9-4f83-a0ba-fc218dd538b8\">\n",
              "    <div class=\"colab-df-container\">\n",
              "      <div>\n",
              "<style scoped>\n",
              "    .dataframe tbody tr th:only-of-type {\n",
              "        vertical-align: middle;\n",
              "    }\n",
              "\n",
              "    .dataframe tbody tr th {\n",
              "        vertical-align: top;\n",
              "    }\n",
              "\n",
              "    .dataframe thead th {\n",
              "        text-align: right;\n",
              "    }\n",
              "</style>\n",
              "<table border=\"1\" class=\"dataframe\">\n",
              "  <thead>\n",
              "    <tr style=\"text-align: right;\">\n",
              "      <th></th>\n",
              "      <th>Close</th>\n",
              "      <th>Volume</th>\n",
              "    </tr>\n",
              "    <tr>\n",
              "      <th>Date</th>\n",
              "      <th></th>\n",
              "      <th></th>\n",
              "    </tr>\n",
              "  </thead>\n",
              "  <tbody>\n",
              "    <tr>\n",
              "      <th>2018-01-02</th>\n",
              "      <td>53.660</td>\n",
              "      <td>31766000</td>\n",
              "    </tr>\n",
              "    <tr>\n",
              "      <th>2018-01-03</th>\n",
              "      <td>54.576</td>\n",
              "      <td>31318000</td>\n",
              "    </tr>\n",
              "    <tr>\n",
              "      <th>2018-01-04</th>\n",
              "      <td>54.788</td>\n",
              "      <td>26052000</td>\n",
              "    </tr>\n",
              "    <tr>\n",
              "      <th>2018-01-05</th>\n",
              "      <td>55.514</td>\n",
              "      <td>30250000</td>\n",
              "    </tr>\n",
              "    <tr>\n",
              "      <th>2018-01-08</th>\n",
              "      <td>55.710</td>\n",
              "      <td>24644000</td>\n",
              "    </tr>\n",
              "  </tbody>\n",
              "</table>\n",
              "</div>\n",
              "      <button class=\"colab-df-convert\" onclick=\"convertToInteractive('df-2412661e-97e9-4f83-a0ba-fc218dd538b8')\"\n",
              "              title=\"Convert this dataframe to an interactive table.\"\n",
              "              style=\"display:none;\">\n",
              "        \n",
              "  <svg xmlns=\"http://www.w3.org/2000/svg\" height=\"24px\"viewBox=\"0 0 24 24\"\n",
              "       width=\"24px\">\n",
              "    <path d=\"M0 0h24v24H0V0z\" fill=\"none\"/>\n",
              "    <path d=\"M18.56 5.44l.94 2.06.94-2.06 2.06-.94-2.06-.94-.94-2.06-.94 2.06-2.06.94zm-11 1L8.5 8.5l.94-2.06 2.06-.94-2.06-.94L8.5 2.5l-.94 2.06-2.06.94zm10 10l.94 2.06.94-2.06 2.06-.94-2.06-.94-.94-2.06-.94 2.06-2.06.94z\"/><path d=\"M17.41 7.96l-1.37-1.37c-.4-.4-.92-.59-1.43-.59-.52 0-1.04.2-1.43.59L10.3 9.45l-7.72 7.72c-.78.78-.78 2.05 0 2.83L4 21.41c.39.39.9.59 1.41.59.51 0 1.02-.2 1.41-.59l7.78-7.78 2.81-2.81c.8-.78.8-2.07 0-2.86zM5.41 20L4 18.59l7.72-7.72 1.47 1.35L5.41 20z\"/>\n",
              "  </svg>\n",
              "      </button>\n",
              "      \n",
              "  <style>\n",
              "    .colab-df-container {\n",
              "      display:flex;\n",
              "      flex-wrap:wrap;\n",
              "      gap: 12px;\n",
              "    }\n",
              "\n",
              "    .colab-df-convert {\n",
              "      background-color: #E8F0FE;\n",
              "      border: none;\n",
              "      border-radius: 50%;\n",
              "      cursor: pointer;\n",
              "      display: none;\n",
              "      fill: #1967D2;\n",
              "      height: 32px;\n",
              "      padding: 0 0 0 0;\n",
              "      width: 32px;\n",
              "    }\n",
              "\n",
              "    .colab-df-convert:hover {\n",
              "      background-color: #E2EBFA;\n",
              "      box-shadow: 0px 1px 2px rgba(60, 64, 67, 0.3), 0px 1px 3px 1px rgba(60, 64, 67, 0.15);\n",
              "      fill: #174EA6;\n",
              "    }\n",
              "\n",
              "    [theme=dark] .colab-df-convert {\n",
              "      background-color: #3B4455;\n",
              "      fill: #D2E3FC;\n",
              "    }\n",
              "\n",
              "    [theme=dark] .colab-df-convert:hover {\n",
              "      background-color: #434B5C;\n",
              "      box-shadow: 0px 1px 3px 1px rgba(0, 0, 0, 0.15);\n",
              "      filter: drop-shadow(0px 1px 2px rgba(0, 0, 0, 0.3));\n",
              "      fill: #FFFFFF;\n",
              "    }\n",
              "  </style>\n",
              "\n",
              "      <script>\n",
              "        const buttonEl =\n",
              "          document.querySelector('#df-2412661e-97e9-4f83-a0ba-fc218dd538b8 button.colab-df-convert');\n",
              "        buttonEl.style.display =\n",
              "          google.colab.kernel.accessAllowed ? 'block' : 'none';\n",
              "\n",
              "        async function convertToInteractive(key) {\n",
              "          const element = document.querySelector('#df-2412661e-97e9-4f83-a0ba-fc218dd538b8');\n",
              "          const dataTable =\n",
              "            await google.colab.kernel.invokeFunction('convertToInteractive',\n",
              "                                                     [key], {});\n",
              "          if (!dataTable) return;\n",
              "\n",
              "          const docLinkHtml = 'Like what you see? Visit the ' +\n",
              "            '<a target=\"_blank\" href=https://colab.research.google.com/notebooks/data_table.ipynb>data table notebook</a>'\n",
              "            + ' to learn more about interactive tables.';\n",
              "          element.innerHTML = '';\n",
              "          dataTable['output_type'] = 'display_data';\n",
              "          await google.colab.output.renderOutput(dataTable, element);\n",
              "          const docLink = document.createElement('div');\n",
              "          docLink.innerHTML = docLinkHtml;\n",
              "          element.appendChild(docLink);\n",
              "        }\n",
              "      </script>\n",
              "    </div>\n",
              "  </div>\n",
              "  "
            ]
          },
          "metadata": {},
          "execution_count": 12
        }
      ]
    },
    {
      "cell_type": "code",
      "metadata": {
        "id": "FRu00UlQ-33P",
        "colab": {
          "base_uri": "https://localhost:8080/"
        },
        "outputId": "b1560fd9-48bd-4ace-a7e2-aa94e6a99d69"
      },
      "source": [
        "# Confirming the length of the testing set \n",
        "test_length = data[(data.index >= '2022-06-01')].shape[0]\n",
        "print('Size of test set to the that of the full data:', round(test_length/data.shape[0], 3))"
      ],
      "execution_count": 13,
      "outputs": [
        {
          "output_type": "stream",
          "name": "stdout",
          "text": [
            "Size of test set to the that of the full data: 0.118\n"
          ]
        }
      ]
    },
    {
      "cell_type": "code",
      "metadata": {
        "id": "HSeJFeZy9oux"
      },
      "source": [
        "# Dividing data into batches with the length  = feature_length including predictors/target,\n",
        "# as we want to use only the past feature_length data points to predict the next one \n",
        "def CreateFeatures_and_Targets(data, feature_length):\n",
        "    X = []\n",
        "    Y = []\n",
        "\n",
        "    for i in tnrange(len(data) - feature_length): \n",
        "        X.append(data.iloc[i:i + feature_length, :].values)\n",
        "        Y.append(data[\"Close\"].values[i+feature_length])\n",
        "\n",
        "    X = np.array(X)\n",
        "    Y = np.array(Y)\n",
        "\n",
        "    return X, Y"
      ],
      "execution_count": 14,
      "outputs": []
    },
    {
      "cell_type": "code",
      "metadata": {
        "id": "9ETswRsS-gLg",
        "colab": {
          "base_uri": "https://localhost:8080/",
          "height": 49,
          "referenced_widgets": [
            "449524cc05b74af6838458d0f2036e40",
            "38c290eba1a94ba984b4ce04eeccd273",
            "d706d434f3b0449380659bd4b32f87c4",
            "a63e250903a34a2f8f6d8cc78f97d546",
            "01e9ae22646343a28aa7f1b9d60e89bb",
            "696e0931ddaa4623a69aa01935b9a66b",
            "b7e8215984c348b68a60600dc7072125",
            "83b77235775a42dbb6c379b07b625f62",
            "4aa82ca45c264eaf9b78b7ce886a0cc6",
            "85ca4134eb7e411ba979afc34e384af9",
            "41815f97efde4328bac878be24d8e456"
          ]
        },
        "outputId": "b6f8e4ed-f897-4dc8-9527-072d750534dc"
      },
      "source": [
        "# Separating predictors from the target\n",
        "X, Y = CreateFeatures_and_Targets(data, 32)"
      ],
      "execution_count": 15,
      "outputs": [
        {
          "output_type": "display_data",
          "data": {
            "text/plain": [
              "  0%|          | 0/1227 [00:00<?, ?it/s]"
            ],
            "application/vnd.jupyter.widget-view+json": {
              "version_major": 2,
              "version_minor": 0,
              "model_id": "449524cc05b74af6838458d0f2036e40"
            }
          },
          "metadata": {}
        }
      ]
    },
    {
      "cell_type": "code",
      "metadata": {
        "id": "PUSmuRiD_ehL",
        "colab": {
          "base_uri": "https://localhost:8080/"
        },
        "outputId": "7394b5c6-70a5-4796-d6e4-ad880689d0c1"
      },
      "source": [
        "# The shape of predictors\n",
        "print('Predictors\\' shape:', X.shape) \n",
        "# The shape of target variables\n",
        "print('Target\\'s shape:', Y.shape)"
      ],
      "execution_count": 16,
      "outputs": [
        {
          "output_type": "stream",
          "name": "stdout",
          "text": [
            "Predictors' shape: (1227, 32, 2)\n",
            "Target's shape: (1227,)\n"
          ]
        }
      ]
    },
    {
      "cell_type": "code",
      "metadata": {
        "id": "KB0N3h07_ncD"
      },
      "source": [
        "# Splitting the dataset between training and test sets\n",
        "Xtrain, Xtest, Ytrain, Ytest = X[:-test_length], X[-test_length:], Y[:-test_length], Y[-test_length:]"
      ],
      "execution_count": 17,
      "outputs": []
    },
    {
      "cell_type": "code",
      "metadata": {
        "id": "cs7uOHQJ_qYH",
        "colab": {
          "base_uri": "https://localhost:8080/"
        },
        "outputId": "09b85607-c28e-49f3-938a-03ea972816e7"
      },
      "source": [
        "# Checking the shape the training set \n",
        "print('The shape of predictors in the training set:', Xtrain.shape) \n",
        "print('The shape of target in the training set:', Ytrain.shape) "
      ],
      "execution_count": 18,
      "outputs": [
        {
          "output_type": "stream",
          "name": "stdout",
          "text": [
            "The shape of predictors in the training set: (1079, 32, 2)\n",
            "The shape of target in the training set: (1079,)\n"
          ]
        }
      ]
    },
    {
      "cell_type": "code",
      "metadata": {
        "id": "5og_CE52AAOF",
        "colab": {
          "base_uri": "https://localhost:8080/"
        },
        "outputId": "7008160e-b9e8-4032-dfd7-814623d6e572"
      },
      "source": [
        "# Checking the shape the test set \n",
        "print('The shape of predictors in the test set:', Xtest.shape) \n",
        "print('The shape of target in the test set:', Ytest.shape) "
      ],
      "execution_count": 19,
      "outputs": [
        {
          "output_type": "stream",
          "name": "stdout",
          "text": [
            "The shape of predictors in the test set: (148, 32, 2)\n",
            "The shape of target in the test set: (148,)\n"
          ]
        }
      ]
    },
    {
      "cell_type": "code",
      "metadata": {
        "id": "eEmlHVBW7UuG"
      },
      "source": [
        "# Creating a scaler for multi-dimensional vectors \n",
        "class MultiDimensionScaler():\n",
        "    def __init__(self):\n",
        "        self.scalers = []\n",
        "\n",
        "    def fit_transform(self, X):\n",
        "        total_dims = X.shape[2]\n",
        "        for i in range(total_dims):\n",
        "            Scaler = MinMaxScaler()\n",
        "            X[:, :, i] = Scaler.fit_transform(X[:,:,i])\n",
        "            self.scalers.append(Scaler)\n",
        "        return X\n",
        "\n",
        "    def transform(self, X):\n",
        "        for i in range(X.shape[2]):\n",
        "            X[:, :, i] = self.scalers[i].transform(X[:,:,i])\n",
        "        return X "
      ],
      "execution_count": 20,
      "outputs": []
    },
    {
      "cell_type": "code",
      "metadata": {
        "id": "4lhh66IV7U0q"
      },
      "source": [
        "# Scaling the predictors in the training and test sets\n",
        "Feature_Scaler = MultiDimensionScaler()\n",
        "Xtrain = Feature_Scaler.fit_transform(Xtrain)\n",
        "Xtest = Feature_Scaler.transform(Xtest)"
      ],
      "execution_count": 21,
      "outputs": []
    },
    {
      "cell_type": "code",
      "metadata": {
        "id": "HDYeLhR-8u9-"
      },
      "source": [
        "# Scaling the target in the training and test sets\n",
        "Target_Scaler = MinMaxScaler()\n",
        "Ytrain = Target_Scaler.fit_transform(Ytrain.reshape(-1, 1))\n",
        "Ytest = Target_Scaler.transform(Ytest.reshape(-1, 1))"
      ],
      "execution_count": 22,
      "outputs": []
    },
    {
      "cell_type": "code",
      "metadata": {
        "id": "P8x7szS79VQz"
      },
      "source": [
        "def save_object(obj , name : str):\n",
        "    pickle_out = open(f\"{name}.pck\", \"wb\")\n",
        "    pickle.dump(obj, pickle_out)\n",
        "    pickle_out.close()\n",
        "\n",
        "def load_object(name : str):\n",
        "    pickle_in = open(f\"{name}.pck\", \"rb\")\n",
        "    data = pickle.load(pickle_in)\n",
        "    return data"
      ],
      "execution_count": 23,
      "outputs": []
    },
    {
      "cell_type": "code",
      "metadata": {
        "id": "gf5NggvA87Dl"
      },
      "source": [
        "# Saving your objects (scalers) for future purposes \n",
        "save_object(Feature_Scaler, \"Feature_Scaler\")\n",
        "save_object(Target_Scaler, \"Target_Scaler\")"
      ],
      "execution_count": 24,
      "outputs": []
    },
    {
      "cell_type": "markdown",
      "metadata": {
        "id": "5A49P71e7Ogi"
      },
      "source": [
        "## Model Building"
      ]
    },
    {
      "cell_type": "code",
      "metadata": {
        "id": "d2pjWbmP6bxu"
      },
      "source": [
        "# Defining the callbacks\n",
        "from tensorflow.keras.callbacks import ModelCheckpoint, ReduceLROnPlateau\n",
        "\n",
        "save_best = ModelCheckpoint(\"best_weights.tf\", monitor = 'val_loss', verbose = 1, \n",
        "                            save_best_only = True, save_weights_only = True)\n",
        "reduce_lr = ReduceLROnPlateau(monitor = 'val_loss', factor = 0.25, patience = 2, min_lr = 0.0001, verbose = 1)"
      ],
      "execution_count": 25,
      "outputs": []
    },
    {
      "cell_type": "code",
      "metadata": {
        "id": "mU4tolqx4gHx"
      },
      "source": [
        "# Building the RNN-based DL model\n",
        "from tensorflow.keras.models import Sequential\n",
        "from tensorflow.keras.layers import Dense, Dropout, LSTM, Bidirectional\n",
        "\n",
        "model = Sequential()\n",
        "model.add(Bidirectional(LSTM(256, return_sequences = True, recurrent_dropout = 0.1, \n",
        "                             input_shape = (X.shape[1], X.shape[2]))))\n",
        "model.add(LSTM(128, recurrent_dropout = 0.1))\n",
        "model.add(Dropout(0.3))\n",
        "model.add(Dense(64, activation = 'elu'))\n",
        "model.add(Dropout(0.3))\n",
        "model.add(Dense(32, activation = 'elu'))\n",
        "model.add(Dense(1, activation = 'linear'))"
      ],
      "execution_count": 26,
      "outputs": []
    },
    {
      "cell_type": "code",
      "metadata": {
        "id": "z_nlZ-wLAt64"
      },
      "source": [
        "# Setting the optimizer and metric for loss function \n",
        "#optimizer = tf.keras.optimizers.Adam(learning_rate = 0.002)\n",
        "optimizer = tf.keras.optimizers.SGD(learning_rate = 0.01)\n",
        "model.compile(loss = 'mse', optimizer = optimizer)\n",
        "\n",
        "# In TS forecasting, we typically use very small numbers for batch size, as the problem statement is\n",
        "# very complex, and the weights should be updated quite frequently, and SGD is a better optimizer\n",
        "# when batch size is low (1 or 2). "
      ],
      "execution_count": 27,
      "outputs": []
    },
    {
      "cell_type": "code",
      "metadata": {
        "id": "vPDDitBoAdhG",
        "colab": {
          "base_uri": "https://localhost:8080/"
        },
        "outputId": "2728b26a-15ee-42f6-bafe-35053aae7622"
      },
      "source": [
        "# Fitting the model\n",
        "history = model.fit(Xtrain, Ytrain,\n",
        "                    epochs = 10,\n",
        "                    batch_size = 1,\n",
        "                    verbose = 1,\n",
        "                    shuffle = False ,\n",
        "                    validation_data = (Xtest, Ytest),\n",
        "                    callbacks = [reduce_lr, save_best])"
      ],
      "execution_count": 28,
      "outputs": [
        {
          "output_type": "stream",
          "name": "stdout",
          "text": [
            "Epoch 1/10\n",
            "1079/1079 [==============================] - ETA: 0s - loss: 0.0026\n",
            "Epoch 1: val_loss improved from inf to 0.01428, saving model to best_weights.tf\n",
            "1079/1079 [==============================] - 394s 357ms/step - loss: 0.0026 - val_loss: 0.0143 - lr: 0.0100\n",
            "Epoch 2/10\n",
            "1079/1079 [==============================] - ETA: 0s - loss: 0.0031\n",
            "Epoch 2: val_loss did not improve from 0.01428\n",
            "1079/1079 [==============================] - 374s 347ms/step - loss: 0.0031 - val_loss: 0.0162 - lr: 0.0100\n",
            "Epoch 3/10\n",
            "1079/1079 [==============================] - ETA: 0s - loss: 0.0031\n",
            "Epoch 3: ReduceLROnPlateau reducing learning rate to 0.0024999999441206455.\n",
            "\n",
            "Epoch 3: val_loss did not improve from 0.01428\n",
            "1079/1079 [==============================] - 373s 346ms/step - loss: 0.0031 - val_loss: 0.0155 - lr: 0.0100\n",
            "Epoch 4/10\n",
            "1079/1079 [==============================] - ETA: 0s - loss: 0.0065\n",
            "Epoch 4: val_loss did not improve from 0.01428\n",
            "1079/1079 [==============================] - 373s 346ms/step - loss: 0.0065 - val_loss: 0.0225 - lr: 0.0025\n",
            "Epoch 5/10\n",
            "1079/1079 [==============================] - ETA: 0s - loss: 0.0058\n",
            "Epoch 5: ReduceLROnPlateau reducing learning rate to 0.0006249999860301614.\n",
            "\n",
            "Epoch 5: val_loss did not improve from 0.01428\n",
            "1079/1079 [==============================] - 370s 343ms/step - loss: 0.0058 - val_loss: 0.0187 - lr: 0.0025\n",
            "Epoch 6/10\n",
            "1079/1079 [==============================] - ETA: 0s - loss: 0.0154\n",
            "Epoch 6: val_loss did not improve from 0.01428\n",
            "1079/1079 [==============================] - 366s 339ms/step - loss: 0.0154 - val_loss: 0.0362 - lr: 6.2500e-04\n",
            "Epoch 7/10\n",
            "1079/1079 [==============================] - ETA: 0s - loss: 0.0136\n",
            "Epoch 7: ReduceLROnPlateau reducing learning rate to 0.00015624999650754035.\n",
            "\n",
            "Epoch 7: val_loss did not improve from 0.01428\n",
            "1079/1079 [==============================] - 370s 343ms/step - loss: 0.0136 - val_loss: 0.0230 - lr: 6.2500e-04\n",
            "Epoch 8/10\n",
            "1079/1079 [==============================] - ETA: 0s - loss: 0.0292\n",
            "Epoch 8: val_loss improved from 0.01428 to 0.00858, saving model to best_weights.tf\n",
            "1079/1079 [==============================] - 369s 342ms/step - loss: 0.0292 - val_loss: 0.0086 - lr: 1.5625e-04\n",
            "Epoch 9/10\n",
            "1079/1079 [==============================] - ETA: 0s - loss: 0.0167\n",
            "Epoch 9: val_loss improved from 0.00858 to 0.00779, saving model to best_weights.tf\n",
            "1079/1079 [==============================] - 376s 349ms/step - loss: 0.0167 - val_loss: 0.0078 - lr: 1.5625e-04\n",
            "Epoch 10/10\n",
            "1079/1079 [==============================] - ETA: 0s - loss: 0.0127\n",
            "Epoch 10: val_loss improved from 0.00779 to 0.00677, saving model to best_weights.tf\n",
            "1079/1079 [==============================] - 372s 345ms/step - loss: 0.0127 - val_loss: 0.0068 - lr: 1.5625e-04\n"
          ]
        }
      ]
    },
    {
      "cell_type": "code",
      "metadata": {
        "id": "CYMEe4j0A_vk",
        "colab": {
          "base_uri": "https://localhost:8080/"
        },
        "outputId": "56150ce6-a944-43b7-eeac-a3dfbab1a934"
      },
      "source": [
        "# Checking the model's structure \n",
        "print(model.summary())"
      ],
      "execution_count": 29,
      "outputs": [
        {
          "output_type": "stream",
          "name": "stdout",
          "text": [
            "Model: \"sequential\"\n",
            "_________________________________________________________________\n",
            " Layer (type)                Output Shape              Param #   \n",
            "=================================================================\n",
            " bidirectional (Bidirectiona  (1, 32, 512)             530432    \n",
            " l)                                                              \n",
            "                                                                 \n",
            " lstm_1 (LSTM)               (1, 128)                  328192    \n",
            "                                                                 \n",
            " dropout (Dropout)           (1, 128)                  0         \n",
            "                                                                 \n",
            " dense (Dense)               (1, 64)                   8256      \n",
            "                                                                 \n",
            " dropout_1 (Dropout)         (1, 64)                   0         \n",
            "                                                                 \n",
            " dense_1 (Dense)             (1, 32)                   2080      \n",
            "                                                                 \n",
            " dense_2 (Dense)             (1, 1)                    33        \n",
            "                                                                 \n",
            "=================================================================\n",
            "Total params: 868,993\n",
            "Trainable params: 868,993\n",
            "Non-trainable params: 0\n",
            "_________________________________________________________________\n",
            "None\n"
          ]
        }
      ]
    },
    {
      "cell_type": "code",
      "metadata": {
        "id": "_ZRfoVk5BLpz",
        "colab": {
          "base_uri": "https://localhost:8080/"
        },
        "outputId": "a62978bf-0070-454e-d38b-523ac5805b87"
      },
      "source": [
        "# Loading the best weights into the model\n",
        "model.load_weights(\"best_weights.tf\")"
      ],
      "execution_count": 30,
      "outputs": [
        {
          "output_type": "execute_result",
          "data": {
            "text/plain": [
              "<tensorflow.python.checkpoint.checkpoint.CheckpointLoadStatus at 0x7f3231e44ac0>"
            ]
          },
          "metadata": {},
          "execution_count": 30
        }
      ]
    },
    {
      "cell_type": "markdown",
      "metadata": {
        "id": "ynJfKM8LBsMu"
      },
      "source": [
        "## Visualization of Predictions on the Test Set"
      ]
    },
    {
      "cell_type": "code",
      "metadata": {
        "id": "N9l1coSqBvjU",
        "colab": {
          "base_uri": "https://localhost:8080/"
        },
        "outputId": "daa5b3e3-051f-4d75-cff7-6b415f4d2ae4"
      },
      "source": [
        "# Making predictions on the test set\n",
        "Predictions = model.predict(Xtest)\n",
        "\n",
        "# Transforming the predictions and actual data to their original form\n",
        "Predictions = Target_Scaler.inverse_transform(Predictions)\n",
        "Actual = Target_Scaler.inverse_transform(Ytest)\n",
        "Predictions = np.squeeze(Predictions , axis = 1)\n",
        "Actual = np.squeeze(Actual, axis = 1)"
      ],
      "execution_count": 31,
      "outputs": [
        {
          "output_type": "stream",
          "name": "stdout",
          "text": [
            "5/5 [==============================] - 2s 101ms/step\n"
          ]
        }
      ]
    },
    {
      "cell_type": "code",
      "metadata": {
        "id": "nx0O70cpFEm4",
        "colab": {
          "base_uri": "https://localhost:8080/",
          "height": 238
        },
        "outputId": "036bc83d-d760-483c-c1e1-2f7df2099193"
      },
      "source": [
        "# Creating a dataframe of actual data points and their RNN predictions\n",
        "test_dataframe_dict = {'Actual': list(Actual), 'Predicted': list(Predictions)}\n",
        "test_df = pd.DataFrame.from_dict(test_dataframe_dict)\n",
        "\n",
        "test_df.index = data.index[-test_length:]\n",
        "test_df.head()"
      ],
      "execution_count": 32,
      "outputs": [
        {
          "output_type": "execute_result",
          "data": {
            "text/plain": [
              "            Actual  Predicted\n",
              "Date                         \n",
              "2022-06-01 113.892    111.748\n",
              "2022-06-02 117.622    111.780\n",
              "2022-06-03 114.541    112.049\n",
              "2022-06-06 116.821    112.428\n",
              "2022-06-07 117.149    112.873"
            ],
            "text/html": [
              "\n",
              "  <div id=\"df-19515fb7-697f-4548-af03-2211152e8257\">\n",
              "    <div class=\"colab-df-container\">\n",
              "      <div>\n",
              "<style scoped>\n",
              "    .dataframe tbody tr th:only-of-type {\n",
              "        vertical-align: middle;\n",
              "    }\n",
              "\n",
              "    .dataframe tbody tr th {\n",
              "        vertical-align: top;\n",
              "    }\n",
              "\n",
              "    .dataframe thead th {\n",
              "        text-align: right;\n",
              "    }\n",
              "</style>\n",
              "<table border=\"1\" class=\"dataframe\">\n",
              "  <thead>\n",
              "    <tr style=\"text-align: right;\">\n",
              "      <th></th>\n",
              "      <th>Actual</th>\n",
              "      <th>Predicted</th>\n",
              "    </tr>\n",
              "    <tr>\n",
              "      <th>Date</th>\n",
              "      <th></th>\n",
              "      <th></th>\n",
              "    </tr>\n",
              "  </thead>\n",
              "  <tbody>\n",
              "    <tr>\n",
              "      <th>2022-06-01</th>\n",
              "      <td>113.892</td>\n",
              "      <td>111.748</td>\n",
              "    </tr>\n",
              "    <tr>\n",
              "      <th>2022-06-02</th>\n",
              "      <td>117.622</td>\n",
              "      <td>111.780</td>\n",
              "    </tr>\n",
              "    <tr>\n",
              "      <th>2022-06-03</th>\n",
              "      <td>114.541</td>\n",
              "      <td>112.049</td>\n",
              "    </tr>\n",
              "    <tr>\n",
              "      <th>2022-06-06</th>\n",
              "      <td>116.821</td>\n",
              "      <td>112.428</td>\n",
              "    </tr>\n",
              "    <tr>\n",
              "      <th>2022-06-07</th>\n",
              "      <td>117.149</td>\n",
              "      <td>112.873</td>\n",
              "    </tr>\n",
              "  </tbody>\n",
              "</table>\n",
              "</div>\n",
              "      <button class=\"colab-df-convert\" onclick=\"convertToInteractive('df-19515fb7-697f-4548-af03-2211152e8257')\"\n",
              "              title=\"Convert this dataframe to an interactive table.\"\n",
              "              style=\"display:none;\">\n",
              "        \n",
              "  <svg xmlns=\"http://www.w3.org/2000/svg\" height=\"24px\"viewBox=\"0 0 24 24\"\n",
              "       width=\"24px\">\n",
              "    <path d=\"M0 0h24v24H0V0z\" fill=\"none\"/>\n",
              "    <path d=\"M18.56 5.44l.94 2.06.94-2.06 2.06-.94-2.06-.94-.94-2.06-.94 2.06-2.06.94zm-11 1L8.5 8.5l.94-2.06 2.06-.94-2.06-.94L8.5 2.5l-.94 2.06-2.06.94zm10 10l.94 2.06.94-2.06 2.06-.94-2.06-.94-.94-2.06-.94 2.06-2.06.94z\"/><path d=\"M17.41 7.96l-1.37-1.37c-.4-.4-.92-.59-1.43-.59-.52 0-1.04.2-1.43.59L10.3 9.45l-7.72 7.72c-.78.78-.78 2.05 0 2.83L4 21.41c.39.39.9.59 1.41.59.51 0 1.02-.2 1.41-.59l7.78-7.78 2.81-2.81c.8-.78.8-2.07 0-2.86zM5.41 20L4 18.59l7.72-7.72 1.47 1.35L5.41 20z\"/>\n",
              "  </svg>\n",
              "      </button>\n",
              "      \n",
              "  <style>\n",
              "    .colab-df-container {\n",
              "      display:flex;\n",
              "      flex-wrap:wrap;\n",
              "      gap: 12px;\n",
              "    }\n",
              "\n",
              "    .colab-df-convert {\n",
              "      background-color: #E8F0FE;\n",
              "      border: none;\n",
              "      border-radius: 50%;\n",
              "      cursor: pointer;\n",
              "      display: none;\n",
              "      fill: #1967D2;\n",
              "      height: 32px;\n",
              "      padding: 0 0 0 0;\n",
              "      width: 32px;\n",
              "    }\n",
              "\n",
              "    .colab-df-convert:hover {\n",
              "      background-color: #E2EBFA;\n",
              "      box-shadow: 0px 1px 2px rgba(60, 64, 67, 0.3), 0px 1px 3px 1px rgba(60, 64, 67, 0.15);\n",
              "      fill: #174EA6;\n",
              "    }\n",
              "\n",
              "    [theme=dark] .colab-df-convert {\n",
              "      background-color: #3B4455;\n",
              "      fill: #D2E3FC;\n",
              "    }\n",
              "\n",
              "    [theme=dark] .colab-df-convert:hover {\n",
              "      background-color: #434B5C;\n",
              "      box-shadow: 0px 1px 3px 1px rgba(0, 0, 0, 0.15);\n",
              "      filter: drop-shadow(0px 1px 2px rgba(0, 0, 0, 0.3));\n",
              "      fill: #FFFFFF;\n",
              "    }\n",
              "  </style>\n",
              "\n",
              "      <script>\n",
              "        const buttonEl =\n",
              "          document.querySelector('#df-19515fb7-697f-4548-af03-2211152e8257 button.colab-df-convert');\n",
              "        buttonEl.style.display =\n",
              "          google.colab.kernel.accessAllowed ? 'block' : 'none';\n",
              "\n",
              "        async function convertToInteractive(key) {\n",
              "          const element = document.querySelector('#df-19515fb7-697f-4548-af03-2211152e8257');\n",
              "          const dataTable =\n",
              "            await google.colab.kernel.invokeFunction('convertToInteractive',\n",
              "                                                     [key], {});\n",
              "          if (!dataTable) return;\n",
              "\n",
              "          const docLinkHtml = 'Like what you see? Visit the ' +\n",
              "            '<a target=\"_blank\" href=https://colab.research.google.com/notebooks/data_table.ipynb>data table notebook</a>'\n",
              "            + ' to learn more about interactive tables.';\n",
              "          element.innerHTML = '';\n",
              "          dataTable['output_type'] = 'display_data';\n",
              "          await google.colab.output.renderOutput(dataTable, element);\n",
              "          const docLink = document.createElement('div');\n",
              "          docLink.innerHTML = docLinkHtml;\n",
              "          element.appendChild(docLink);\n",
              "        }\n",
              "      </script>\n",
              "    </div>\n",
              "  </div>\n",
              "  "
            ]
          },
          "metadata": {},
          "execution_count": 32
        }
      ]
    },
    {
      "cell_type": "code",
      "source": [
        "# Calculating prediction errors\n",
        "\n",
        "# Importing relevant error metrics\n",
        "from sklearn.metrics import mean_squared_error, mean_absolute_error\n",
        "\n",
        "# Defining a function to calculate MAPE score\n",
        "def mape_score(y_true, y_pred):\n",
        "    score = 0\n",
        "    for i in range(y_true.shape[0]):\n",
        "        score += (np.abs(y_true[i] - y_pred[i])/np.abs(y_true[i])*100)/y_true.shape[0]\n",
        "    return score"
      ],
      "metadata": {
        "id": "6F1O6ovE6vZ4"
      },
      "execution_count": 33,
      "outputs": []
    },
    {
      "cell_type": "code",
      "source": [
        "# Reporting error metrics of the model\n",
        "y_true = np.array(test_dataframe_dict['Actual'])\n",
        "y_pred = np.array(test_dataframe_dict['Predicted'])\n",
        "print('RMSE on the test data:', round(np.sqrt(mean_squared_error(y_true, y_pred)), 2))\n",
        "print('MAE on the test data:', round(mean_absolute_error(y_true, y_pred), 2))\n",
        "print('MAPE score on the test data (%):', round(mape_score(y_true, y_pred), 2))"
      ],
      "metadata": {
        "colab": {
          "base_uri": "https://localhost:8080/"
        },
        "id": "UAIJZhO97Y9-",
        "outputId": "2dd74316-4f8f-45f8-dc27-fe229d1f4111"
      },
      "execution_count": 34,
      "outputs": [
        {
          "output_type": "stream",
          "name": "stdout",
          "text": [
            "RMSE on the test data: 8.28\n",
            "MAE on the test data: 6.96\n",
            "MAPE score on the test data (%): 7.03\n"
          ]
        }
      ]
    },
    {
      "cell_type": "markdown",
      "metadata": {
        "id": "4JCHmDQwZRFf"
      },
      "source": [
        "## Visualization of Predictions on the Whole Data"
      ]
    },
    {
      "cell_type": "code",
      "metadata": {
        "id": "EqI4_gHOZsYd"
      },
      "source": [
        "# Concatenating training and test sets\n",
        "Total_features = np.concatenate((Xtrain, Xtest), axis = 0)\n",
        "Total_Targets = np.concatenate((Ytrain, Ytest), axis = 0)"
      ],
      "execution_count": 35,
      "outputs": []
    },
    {
      "cell_type": "code",
      "metadata": {
        "id": "AX2DdzL3aBW-",
        "colab": {
          "base_uri": "https://localhost:8080/"
        },
        "outputId": "f521f8ba-e065-4f74-a9c5-df13ddc33189"
      },
      "source": [
        "# Making predictions on the whole data, i.e., reconstructing the \n",
        "# training set and forecasting the test set\n",
        "Predictions = model.predict(Total_features)\n",
        "\n",
        "# Transforming the predictions and actual data to their original form\n",
        "Predictions = Target_Scaler.inverse_transform(Predictions)\n",
        "Actual = Target_Scaler.inverse_transform(Total_Targets)\n",
        "Predictions = np.squeeze(Predictions, axis = 1)\n",
        "Actual = np.squeeze(Actual, axis = 1)"
      ],
      "execution_count": 36,
      "outputs": [
        {
          "output_type": "stream",
          "name": "stdout",
          "text": [
            "39/39 [==============================] - 4s 105ms/step\n"
          ]
        }
      ]
    },
    {
      "cell_type": "code",
      "metadata": {
        "id": "hJ8jz3c4aBXD",
        "colab": {
          "base_uri": "https://localhost:8080/",
          "height": 415
        },
        "outputId": "0a06b437-ae8a-4357-fdbf-a7c98254cdec"
      },
      "source": [
        "# Comparing ground truth to predictions\n",
        "plt.figure(figsize = (15, 6));\n",
        "plt.plot(data.index[32:], Actual, color = 'blue', linewidth = 1.7);\n",
        "plt.plot(data.index[32:], Predictions, color = 'red', linewidth = 1.7);\n",
        "plt.title('Prediction of Google Stock Price vs. Its Actual Values');\n",
        "plt.xlabel('Date');\n",
        "plt.ylabel('Closing Price (USD)');\n",
        "plt.axvline(data.index[-test_length], color = 'green', linewidth = 1.5, linestyle = 'dashed');"
      ],
      "execution_count": 44,
      "outputs": [
        {
          "output_type": "display_data",
          "data": {
            "text/plain": [
              "<Figure size 1080x432 with 1 Axes>"
            ],
            "image/png": "[encoded data removed]"
          },
          "metadata": {}
        }
      ]
    },
    {
      "cell_type": "markdown",
      "source": [
        "\n",
        "#### Notes:\n",
        "\n",
        "Values to the left of the vertical green line are reconstruction of the training set, while those to the right of this line are forecasts of the test set."
      ],
      "metadata": {
        "id": "3eNwA4BWNu0K"
      }
    }
  ]
}